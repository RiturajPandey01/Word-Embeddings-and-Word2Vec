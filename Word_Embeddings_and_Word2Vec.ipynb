{
  "nbformat": 4,
  "nbformat_minor": 0,
  "metadata": {
    "colab": {
      "name": "Word Embeddings and Word2Vec.ipynb",
      "provenance": []
    },
    "kernelspec": {
      "name": "python3",
      "display_name": "Python 3"
    }
  },
  "cells": [
    {
      "cell_type": "code",
      "metadata": {
        "id": "SF6EzKTUNYmw",
        "colab_type": "code",
        "colab": {}
      },
      "source": [
        "import os\n",
        "from keras.utils import get_file\n",
        "import gensim\n",
        "import subprocess\n",
        "import numpy as np\n",
        "import matplotlib.pyplot as plt\n",
        "%matplotlib inline\n",
        "from IPython.core.pylabtools import figsize\n",
        "figsize(10,10)\n",
        "from sklearn import svm\n",
        "from sklearn.manifold import TSNE\n",
        "import json\n",
        "from collections import Counter\n",
        "from itertools import chain\n",
        "import random\n",
        "import requests\n",
        "import geopandas as gpd\n",
        "import csv"
      ],
      "execution_count": 3,
      "outputs": []
    },
    {
      "cell_type": "code",
      "metadata": {
        "id": "sgx8QvdiNppU",
        "colab_type": "code",
        "colab": {}
      },
      "source": [
        "MODEL='GoogleNews-vectors-negative300.bin'\n",
        "path=get_file(MODEL + '.gz', 'https://s3.amazonaws.com/dl4j-distribution/%s.gz' % MODEL)\n",
        "if not os.path.isdir('generated'):\n",
        "    os.mkdir('generated')\n",
        "unzipped=os.path.join('generated', MODEL)\n",
        "if not os.path.isfile(unzipped):\n",
        "    with open(unzipped, 'wb') as fout:\n",
        "        zcat = subprocess.Popen(['zcat'], stdin=open(path), stdout=fout)\n",
        "        zcat.wait()"
      ],
      "execution_count": 4,
      "outputs": []
    },
    {
      "cell_type": "code",
      "metadata": {
        "id": "La9YBIjDNtHt",
        "colab_type": "code",
        "colab": {
          "base_uri": "https://localhost:8080/",
          "height": 70
        },
        "outputId": "c6703cdc-b657-423b-cbcb-224c39fc6adb"
      },
      "source": [
        "model=gensim.models.KeyedVectors.load_word2vec_format(unzipped, binary=True)"
      ],
      "execution_count": 5,
      "outputs": [
        {
          "output_type": "stream",
          "text": [
            "/usr/local/lib/python3.6/dist-packages/smart_open/smart_open_lib.py:254: UserWarning: This function is deprecated, use smart_open.open instead. See the migration notes for details: https://github.com/RaRe-Technologies/smart_open/blob/master/README.rst#migrating-to-the-new-open-function\n",
            "  'See the migration notes for details: %s' % _MIGRATION_NOTES_URL\n"
          ],
          "name": "stderr"
        }
      ]
    },
    {
      "cell_type": "code",
      "metadata": {
        "id": "p8Mw4jz1QUWB",
        "colab_type": "code",
        "colab": {
          "base_uri": "https://localhost:8080/",
          "height": 238
        },
        "outputId": "56cf33b9-9075-4602-de2d-a167dd80a0a2"
      },
      "source": [
        "model.most_similar(positive=['espresso'])"
      ],
      "execution_count": 8,
      "outputs": [
        {
          "output_type": "stream",
          "text": [
            "/usr/local/lib/python3.6/dist-packages/gensim/matutils.py:737: FutureWarning: Conversion of the second argument of issubdtype from `int` to `np.signedinteger` is deprecated. In future, it will be treated as `np.int64 == np.dtype(int).type`.\n",
            "  if np.issubdtype(vec.dtype, np.int):\n"
          ],
          "name": "stderr"
        },
        {
          "output_type": "execute_result",
          "data": {
            "text/plain": [
              "[('cappuccino', 0.6888186931610107),\n",
              " ('mocha', 0.6686208248138428),\n",
              " ('coffee', 0.6616826057434082),\n",
              " ('latte', 0.6536753177642822),\n",
              " ('caramel_macchiato', 0.6491267681121826),\n",
              " ('ristretto', 0.6485546827316284),\n",
              " ('espressos', 0.6438628435134888),\n",
              " ('macchiato', 0.6428250074386597),\n",
              " ('chai_latte', 0.6308027505874634),\n",
              " ('espresso_cappuccino', 0.6280542612075806)]"
            ]
          },
          "metadata": {
            "tags": []
          },
          "execution_count": 8
        }
      ]
    },
    {
      "cell_type": "code",
      "metadata": {
        "id": "GMlxsulIQo8E",
        "colab_type": "code",
        "colab": {}
      },
      "source": [
        "def A_is_to_B_as_C_is_to(a,b,c,topn=1):\n",
        "  a,b,c=map(lambda x: x if type(x)==list else [x],(a,b,c))\n",
        "  res=model.most_similar(positive=b+c, negative=a, topn=topn)\n",
        "  if len(res):\n",
        "    if topn==1:\n",
        "      return res[0][0]\n",
        "    return [x[0] for x in res]\n",
        "  return None"
      ],
      "execution_count": 9,
      "outputs": []
    },
    {
      "cell_type": "code",
      "metadata": {
        "id": "qN95Tl5WR1Gk",
        "colab_type": "code",
        "colab": {
          "base_uri": "https://localhost:8080/",
          "height": 89
        },
        "outputId": "f5106c00-959f-4b34-9ca9-c9109701b899"
      },
      "source": [
        "A_is_to_B_as_C_is_to('king','queen','man')"
      ],
      "execution_count": 11,
      "outputs": [
        {
          "output_type": "stream",
          "text": [
            "/usr/local/lib/python3.6/dist-packages/gensim/matutils.py:737: FutureWarning: Conversion of the second argument of issubdtype from `int` to `np.signedinteger` is deprecated. In future, it will be treated as `np.int64 == np.dtype(int).type`.\n",
            "  if np.issubdtype(vec.dtype, np.int):\n"
          ],
          "name": "stderr"
        },
        {
          "output_type": "execute_result",
          "data": {
            "application/vnd.google.colaboratory.intrinsic+json": {
              "type": "string"
            },
            "text/plain": [
              "'woman'"
            ]
          },
          "metadata": {
            "tags": []
          },
          "execution_count": 11
        }
      ]
    },
    {
      "cell_type": "code",
      "metadata": {
        "id": "UovhaMT6SFLE",
        "colab_type": "code",
        "colab": {
          "base_uri": "https://localhost:8080/",
          "height": 138
        },
        "outputId": "a6866f00-970b-41e1-e4f8-0ebe96256c8d"
      },
      "source": [
        "for country in 'Italy','France','India','China':\n",
        "  print('%s is the capital of %s'% (A_is_to_B_as_C_is_to('Germany','Berlin',country),country))"
      ],
      "execution_count": 12,
      "outputs": [
        {
          "output_type": "stream",
          "text": [
            "/usr/local/lib/python3.6/dist-packages/gensim/matutils.py:737: FutureWarning: Conversion of the second argument of issubdtype from `int` to `np.signedinteger` is deprecated. In future, it will be treated as `np.int64 == np.dtype(int).type`.\n",
            "  if np.issubdtype(vec.dtype, np.int):\n"
          ],
          "name": "stderr"
        },
        {
          "output_type": "stream",
          "text": [
            "Rome is the capital of Italy\n",
            "Paris is the capital of France\n",
            "Delhi is the capital of India\n",
            "Beijing is the capital of China\n"
          ],
          "name": "stdout"
        }
      ]
    },
    {
      "cell_type": "code",
      "metadata": {
        "id": "Wh8O2ueWScHK",
        "colab_type": "code",
        "colab": {
          "base_uri": "https://localhost:8080/",
          "height": 154
        },
        "outputId": "efd9abb1-eaf8-4e0d-96da-49d379e34ae2"
      },
      "source": [
        "for company in 'Google', 'IBM', 'Boeing', 'Microsoft', 'Samsung':\n",
        "  products = A_is_to_B_as_C_is_to(['Starbucks', 'Apple'], ['Starbucks_coffee', 'iPhone'], company, topn=3)\n",
        "  print('%s -> %s' % (company, ', '.join(products)))"
      ],
      "execution_count": 14,
      "outputs": [
        {
          "output_type": "stream",
          "text": [
            "/usr/local/lib/python3.6/dist-packages/gensim/matutils.py:737: FutureWarning: Conversion of the second argument of issubdtype from `int` to `np.signedinteger` is deprecated. In future, it will be treated as `np.int64 == np.dtype(int).type`.\n",
            "  if np.issubdtype(vec.dtype, np.int):\n"
          ],
          "name": "stderr"
        },
        {
          "output_type": "stream",
          "text": [
            "Google -> personalized_homepage, app, Gmail\n",
            "IBM -> DB2, WebSphere_Portal, Tamino_XML_Server\n",
            "Boeing -> Dreamliner, airframe, aircraft\n",
            "Microsoft -> Windows_Mobile, SyncMate, Windows\n",
            "Samsung -> MM_A###, handset, Samsung_SCH_B###\n"
          ],
          "name": "stdout"
        }
      ]
    },
    {
      "cell_type": "code",
      "metadata": {
        "id": "x7CTBz9rSj4h",
        "colab_type": "code",
        "colab": {}
      },
      "source": [
        "beverages = ['espresso', 'beer', 'vodka', 'wine', 'cola', 'tea']\n",
        "countries = ['Italy', 'Germany', 'Russia', 'France', 'USA', 'India']\n",
        "sports = ['soccer', 'handball', 'hockey', 'cycling', 'basketball', 'cricket']\n",
        "items = beverages + countries + sports\n",
        "\n",
        "item_vectors=[(item,model[item]) for item in items if item in model]"
      ],
      "execution_count": 19,
      "outputs": []
    },
    {
      "cell_type": "code",
      "metadata": {
        "id": "li6gzhylUAvr",
        "colab_type": "code",
        "colab": {
          "base_uri": "https://localhost:8080/",
          "height": 487
        },
        "outputId": "6387671a-d3b9-4b42-d5b5-a1524312bb85"
      },
      "source": [
        "#t-distributed stochastic neighbour embedding\n",
        "\n",
        "vectors=np.asarray([x[1] for x in item_vectors])\n",
        "lengths=np.linalg.norm(vectors, axis=1)\n",
        "norm_vectors=(vectors.T/lengths).T\n",
        "tsne=TSNE(n_components=2, perplexity=10, verbose=2).fit_transform(norm_vectors)"
      ],
      "execution_count": 20,
      "outputs": [
        {
          "output_type": "stream",
          "text": [
            "[t-SNE] Computing 17 nearest neighbors...\n",
            "[t-SNE] Indexed 18 samples in 0.000s...\n",
            "[t-SNE] Computed neighbors for 18 samples in 0.018s...\n",
            "[t-SNE] Computed conditional probabilities for sample 18 / 18\n",
            "[t-SNE] Mean sigma: 0.581543\n",
            "[t-SNE] Computed conditional probabilities in 0.018s\n",
            "[t-SNE] Iteration 50: error = 75.1306458, gradient norm = 0.8357976 (50 iterations in 0.027s)\n",
            "[t-SNE] Iteration 100: error = 60.5361786, gradient norm = 0.2923334 (50 iterations in 0.010s)\n",
            "[t-SNE] Iteration 150: error = 62.1770287, gradient norm = 0.1628571 (50 iterations in 0.009s)\n",
            "[t-SNE] Iteration 200: error = 65.2976990, gradient norm = 0.0659866 (50 iterations in 0.009s)\n",
            "[t-SNE] Iteration 250: error = 58.2293167, gradient norm = 0.0606765 (50 iterations in 0.008s)\n",
            "[t-SNE] KL divergence after 250 iterations with early exaggeration: 58.229317\n",
            "[t-SNE] Iteration 300: error = 0.9287155, gradient norm = 0.0009684 (50 iterations in 0.008s)\n",
            "[t-SNE] Iteration 350: error = 0.7483113, gradient norm = 0.0006175 (50 iterations in 0.008s)\n",
            "[t-SNE] Iteration 400: error = 0.5192144, gradient norm = 0.0004040 (50 iterations in 0.008s)\n",
            "[t-SNE] Iteration 450: error = 0.3479386, gradient norm = 0.0004271 (50 iterations in 0.008s)\n",
            "[t-SNE] Iteration 500: error = 0.2467762, gradient norm = 0.0003235 (50 iterations in 0.008s)\n",
            "[t-SNE] Iteration 550: error = 0.2002429, gradient norm = 0.0002274 (50 iterations in 0.008s)\n",
            "[t-SNE] Iteration 600: error = 0.1779309, gradient norm = 0.0000618 (50 iterations in 0.008s)\n",
            "[t-SNE] Iteration 650: error = 0.1755492, gradient norm = 0.0000515 (50 iterations in 0.008s)\n",
            "[t-SNE] Iteration 700: error = 0.1719397, gradient norm = 0.0000530 (50 iterations in 0.008s)\n",
            "[t-SNE] Iteration 750: error = 0.1643864, gradient norm = 0.0000880 (50 iterations in 0.008s)\n",
            "[t-SNE] Iteration 800: error = 0.1412725, gradient norm = 0.0000864 (50 iterations in 0.008s)\n",
            "[t-SNE] Iteration 850: error = 0.1300747, gradient norm = 0.0000881 (50 iterations in 0.012s)\n",
            "[t-SNE] Iteration 900: error = 0.1143837, gradient norm = 0.0000659 (50 iterations in 0.008s)\n",
            "[t-SNE] Iteration 950: error = 0.1057070, gradient norm = 0.0000458 (50 iterations in 0.008s)\n",
            "[t-SNE] Iteration 1000: error = 0.1015732, gradient norm = 0.0000288 (50 iterations in 0.008s)\n",
            "[t-SNE] KL divergence after 1000 iterations: 0.101573\n"
          ],
          "name": "stdout"
        }
      ]
    },
    {
      "cell_type": "code",
      "metadata": {
        "id": "y26t1D_FVK_F",
        "colab_type": "code",
        "colab": {
          "base_uri": "https://localhost:8080/",
          "height": 265
        },
        "outputId": "1f8c57b8-5aaf-4b9f-9d85-0f8f71337c95"
      },
      "source": [
        "x=tsne[:,0]\n",
        "y=tsne[:,1]\n",
        "\n",
        "fig,ax=plt.subplots()\n",
        "ax.scatter(x,y)\n",
        "\n",
        "for item,x1,y1 in zip(item_vectors,x,y):\n",
        "  ax.annotate(item[0],(x1,y1))\n",
        "\n",
        "plt.show()"
      ],
      "execution_count": 21,
      "outputs": [
        {
          "output_type": "display_data",
          "data": {
            "image/png": "[encoded data removed]",
            "text/plain": [
              "<Figure size 432x288 with 1 Axes>"
            ]
          },
          "metadata": {
            "tags": [],
            "needs_background": "light"
          }
        }
      ]
    },
    {
      "cell_type": "code",
      "metadata": {
        "id": "C6iIFmaUZq1Y",
        "colab_type": "code",
        "colab": {}
      },
      "source": [
        "import pandas as pd\n",
        "c=pd.read_csv('https://raw.githubusercontent.com/DOsinga/deep_learning_cookbook/master/data/countries.csv')\n",
        "c.to_csv('/content/drive/My Drive/Colab Notebooks/Word Embedings and Text SImilarity/countries.csv')"
      ],
      "execution_count": 32,
      "outputs": []
    },
    {
      "cell_type": "code",
      "metadata": {
        "id": "0MxKeDJtZ9-L",
        "colab_type": "code",
        "colab": {
          "base_uri": "https://localhost:8080/",
          "height": 386
        },
        "outputId": "db76a837-b389-42cd-bd8c-b48c5867f8a7"
      },
      "source": [
        "countries=list(csv.DictReader(open('/content/drive/My Drive/Colab Notebooks/Word Embedings and Text SImilarity/countries.csv')))\n",
        "countries[:10]"
      ],
      "execution_count": 7,
      "outputs": [
        {
          "output_type": "execute_result",
          "data": {
            "text/plain": [
              "[OrderedDict([('', '0'), ('name', 'Canada'), ('cc', 'ca'), ('cc3', 'can')]),\n",
              " OrderedDict([('', '1'),\n",
              "              ('name', 'Turkmenistan'),\n",
              "              ('cc', 'tm'),\n",
              "              ('cc3', 'tkm')]),\n",
              " OrderedDict([('', '2'), ('name', 'Ethiopia'), ('cc', 'et'), ('cc3', 'eth')]),\n",
              " OrderedDict([('', '3'), ('name', 'Swaziland'), ('cc', 'sz'), ('cc3', 'swz')]),\n",
              " OrderedDict([('', '4'),\n",
              "              ('name', 'Czech_Republic'),\n",
              "              ('cc', 'cz'),\n",
              "              ('cc3', 'cze')]),\n",
              " OrderedDict([('', '5'), ('name', 'Cameroon'), ('cc', 'cm'), ('cc3', 'cmr')]),\n",
              " OrderedDict([('', '6'), ('name', 'UAE'), ('cc', 'ae'), ('cc3', 'are')]),\n",
              " OrderedDict([('', '7'), ('name', 'Liberia'), ('cc', 'lr'), ('cc3', 'lbr')]),\n",
              " OrderedDict([('', '8'),\n",
              "              ('name', 'Netherlands'),\n",
              "              ('cc', 'nl'),\n",
              "              ('cc3', 'nld')]),\n",
              " OrderedDict([('', '9'),\n",
              "              ('name', 'East_Timor'),\n",
              "              ('cc', 'tl'),\n",
              "              ('cc3', 'tls')])]"
            ]
          },
          "metadata": {
            "tags": []
          },
          "execution_count": 7
        }
      ]
    },
    {
      "cell_type": "code",
      "metadata": {
        "id": "R999q3kKaRHG",
        "colab_type": "code",
        "colab": {}
      },
      "source": [
        "positive=[x['name'] for x in random.sample(countries,40)]\n",
        "negative=random.sample(model.vocab.keys(),5000)"
      ],
      "execution_count": 8,
      "outputs": []
    },
    {
      "cell_type": "code",
      "metadata": {
        "id": "RRcS1u1hbSfG",
        "colab_type": "code",
        "colab": {}
      },
      "source": [
        "labelled = [(p, 1) for p in positive] + [(n, 0) for n in negative]\n",
        "random.shuffle(labelled)\n",
        "X = np.asarray([model[w] for w, l in labelled])\n",
        "y = np.asarray([l for w, l in labelled])"
      ],
      "execution_count": 9,
      "outputs": []
    },
    {
      "cell_type": "code",
      "metadata": {
        "id": "-HMc7c-1bY_k",
        "colab_type": "code",
        "colab": {
          "base_uri": "https://localhost:8080/",
          "height": 84
        },
        "outputId": "516df9d8-1c1b-4c9e-ae92-8221ac39ec17"
      },
      "source": [
        "TRAINING_FRACTION = 0.3\n",
        "cut_off = int(TRAINING_FRACTION * len(labelled))\n",
        "clf = svm.SVC(kernel='linear')\n",
        "clf.fit(X[:cut_off], y[:cut_off])"
      ],
      "execution_count": 10,
      "outputs": [
        {
          "output_type": "execute_result",
          "data": {
            "text/plain": [
              "SVC(C=1.0, break_ties=False, cache_size=200, class_weight=None, coef0=0.0,\n",
              "    decision_function_shape='ovr', degree=3, gamma='scale', kernel='linear',\n",
              "    max_iter=-1, probability=False, random_state=None, shrinking=True,\n",
              "    tol=0.001, verbose=False)"
            ]
          },
          "metadata": {
            "tags": []
          },
          "execution_count": 10
        }
      ]
    },
    {
      "cell_type": "code",
      "metadata": {
        "id": "p8ErQ04Bbod1",
        "colab_type": "code",
        "colab": {
          "base_uri": "https://localhost:8080/",
          "height": 34
        },
        "outputId": "8c6f7099-e5af-419b-8cb2-cd22dd792838"
      },
      "source": [
        "res = clf.predict(X[cut_off:])\n",
        "\n",
        "missed = [country for (pred, truth, country) in \n",
        " zip(res, y[cut_off:], labelled[cut_off:]) if pred != truth]\n",
        "\n",
        "100 - 100 * float(len(missed)) / len(res), missed"
      ],
      "execution_count": 11,
      "outputs": [
        {
          "output_type": "execute_result",
          "data": {
            "text/plain": [
              "(99.94331065759637, [('North_Korea', 1), ('Qatari', 0)])"
            ]
          },
          "metadata": {
            "tags": []
          },
          "execution_count": 11
        }
      ]
    },
    {
      "cell_type": "code",
      "metadata": {
        "id": "mdKMMcLVbw0Y",
        "colab_type": "code",
        "colab": {
          "base_uri": "https://localhost:8080/",
          "height": 50
        },
        "outputId": "c0f2d405-8533-4082-93a3-95e8ef5fd32e"
      },
      "source": [
        "all_predictions=clf.predict(model.syn0)"
      ],
      "execution_count": 12,
      "outputs": [
        {
          "output_type": "stream",
          "text": [
            "/usr/local/lib/python3.6/dist-packages/ipykernel_launcher.py:1: DeprecationWarning: Call to deprecated `syn0` (Attribute will be removed in 4.0.0, use self.wv.vectors instead).\n",
            "  \"\"\"Entry point for launching an IPython kernel.\n"
          ],
          "name": "stderr"
        }
      ]
    },
    {
      "cell_type": "code",
      "metadata": {
        "id": "ATgedk4ab5np",
        "colab_type": "code",
        "colab": {
          "base_uri": "https://localhost:8080/",
          "height": 185
        },
        "outputId": "98449fad-1b5b-485a-a321-b6cab8e4399d"
      },
      "source": [
        "res = []\n",
        "for word, pred in zip(model.index2word, all_predictions):\n",
        "    if pred:\n",
        "        res.append(word)\n",
        "        if len(res) == 150:\n",
        "            break\n",
        "random.sample(res, 10)"
      ],
      "execution_count": 14,
      "outputs": [
        {
          "output_type": "execute_result",
          "data": {
            "text/plain": [
              "['Romania',\n",
              " 'SA',\n",
              " 'countries',\n",
              " 'Gaza_Strip',\n",
              " 'Thailand',\n",
              " 'UK',\n",
              " 'Cyprus',\n",
              " 'Ecuador',\n",
              " 'New_Zealand',\n",
              " 'Kosovo']"
            ]
          },
          "metadata": {
            "tags": []
          },
          "execution_count": 14
        }
      ]
    },
    {
      "cell_type": "code",
      "metadata": {
        "id": "T0ap_oLNcCYa",
        "colab_type": "code",
        "colab": {
          "base_uri": "https://localhost:8080/",
          "height": 34
        },
        "outputId": "a9e6346c-52d6-43fe-8030-687cbb7fdf55"
      },
      "source": [
        "country_to_idx = {country['name']: idx for idx, country in enumerate(countries)}\n",
        "country_vecs = np.asarray([model[c['name']] for c in countries])\n",
        "country_vecs.shape"
      ],
      "execution_count": 15,
      "outputs": [
        {
          "output_type": "execute_result",
          "data": {
            "text/plain": [
              "(184, 300)"
            ]
          },
          "metadata": {
            "tags": []
          },
          "execution_count": 15
        }
      ]
    },
    {
      "cell_type": "code",
      "metadata": {
        "id": "4PXnCgnodeCL",
        "colab_type": "code",
        "colab": {
          "base_uri": "https://localhost:8080/",
          "height": 185
        },
        "outputId": "9e3cb9ff-c629-4e8c-b3c0-6e99e0718b98"
      },
      "source": [
        "dists = np.dot(country_vecs, country_vecs[country_to_idx['Canada']])\n",
        "for idx in reversed(np.argsort(dists)[-10:]):\n",
        "    print(countries[idx]['name'], dists[idx])"
      ],
      "execution_count": 16,
      "outputs": [
        {
          "output_type": "stream",
          "text": [
            "Canada 7.544024\n",
            "New_Zealand 3.9619699\n",
            "Finland 3.9392407\n",
            "Puerto_Rico 3.838145\n",
            "Jamaica 3.8102932\n",
            "Sweden 3.8042789\n",
            "Slovakia 3.703874\n",
            "Australia 3.671101\n",
            "Bahamas 3.6240416\n",
            "United_States 3.5374339\n"
          ],
          "name": "stdout"
        }
      ]
    },
    {
      "cell_type": "code",
      "metadata": {
        "id": "QEUaP8ScdhmC",
        "colab_type": "code",
        "colab": {}
      },
      "source": [
        "def rank_countries(term, topn=10, field='name'):\n",
        "    if not term in model:\n",
        "        return []\n",
        "    vec = model[term]\n",
        "    dists = np.dot(country_vecs, vec)\n",
        "    return [(countries[idx][field], float(dists[idx])) \n",
        "            for idx in reversed(np.argsort(dists)[-topn:])]"
      ],
      "execution_count": 17,
      "outputs": []
    },
    {
      "cell_type": "code",
      "metadata": {
        "id": "IUdYlsPydlYQ",
        "colab_type": "code",
        "colab": {
          "base_uri": "https://localhost:8080/",
          "height": 185
        },
        "outputId": "a642c8b1-c1dc-4277-9e98-0f25140b884e"
      },
      "source": [
        "rank_countries('cricket')"
      ],
      "execution_count": 20,
      "outputs": [
        {
          "output_type": "execute_result",
          "data": {
            "text/plain": [
              "[('Sri_Lanka', 5.92276668548584),\n",
              " ('Zimbabwe', 5.336524963378906),\n",
              " ('Bangladesh', 5.192489147186279),\n",
              " ('Pakistan', 4.948408126831055),\n",
              " ('Guyana', 3.9162838459014893),\n",
              " ('Barbados', 3.757995128631592),\n",
              " ('India', 3.7504398822784424),\n",
              " ('South_Africa', 3.6561501026153564),\n",
              " ('New_Zealand', 3.642028570175171),\n",
              " ('Fiji', 3.608567714691162)]"
            ]
          },
          "metadata": {
            "tags": []
          },
          "execution_count": 20
        }
      ]
    },
    {
      "cell_type": "code",
      "metadata": {
        "id": "h60DG61Wdxe5",
        "colab_type": "code",
        "colab": {
          "base_uri": "https://localhost:8080/",
          "height": 195
        },
        "outputId": "67f653ad-4479-4323-b0d9-c1e0be1ec912"
      },
      "source": [
        "world = gpd.read_file(gpd.datasets.get_path('naturalearth_lowres'))\n",
        "world.head()"
      ],
      "execution_count": 21,
      "outputs": [
        {
          "output_type": "execute_result",
          "data": {
            "text/html": [
              "<div>\n",
              "<style scoped>\n",
              "    .dataframe tbody tr th:only-of-type {\n",
              "        vertical-align: middle;\n",
              "    }\n",
              "\n",
              "    .dataframe tbody tr th {\n",
              "        vertical-align: top;\n",
              "    }\n",
              "\n",
              "    .dataframe thead th {\n",
              "        text-align: right;\n",
              "    }\n",
              "</style>\n",
              "<table border=\"1\" class=\"dataframe\">\n",
              "  <thead>\n",
              "    <tr style=\"text-align: right;\">\n",
              "      <th></th>\n",
              "      <th>pop_est</th>\n",
              "      <th>continent</th>\n",
              "      <th>name</th>\n",
              "      <th>iso_a3</th>\n",
              "      <th>gdp_md_est</th>\n",
              "      <th>geometry</th>\n",
              "    </tr>\n",
              "  </thead>\n",
              "  <tbody>\n",
              "    <tr>\n",
              "      <th>0</th>\n",
              "      <td>920938</td>\n",
              "      <td>Oceania</td>\n",
              "      <td>Fiji</td>\n",
              "      <td>FJI</td>\n",
              "      <td>8374.0</td>\n",
              "      <td>MULTIPOLYGON (((180.00000 -16.06713, 180.00000...</td>\n",
              "    </tr>\n",
              "    <tr>\n",
              "      <th>1</th>\n",
              "      <td>53950935</td>\n",
              "      <td>Africa</td>\n",
              "      <td>Tanzania</td>\n",
              "      <td>TZA</td>\n",
              "      <td>150600.0</td>\n",
              "      <td>POLYGON ((33.90371 -0.95000, 34.07262 -1.05982...</td>\n",
              "    </tr>\n",
              "    <tr>\n",
              "      <th>2</th>\n",
              "      <td>603253</td>\n",
              "      <td>Africa</td>\n",
              "      <td>W. Sahara</td>\n",
              "      <td>ESH</td>\n",
              "      <td>906.5</td>\n",
              "      <td>POLYGON ((-8.66559 27.65643, -8.66512 27.58948...</td>\n",
              "    </tr>\n",
              "    <tr>\n",
              "      <th>3</th>\n",
              "      <td>35623680</td>\n",
              "      <td>North America</td>\n",
              "      <td>Canada</td>\n",
              "      <td>CAN</td>\n",
              "      <td>1674000.0</td>\n",
              "      <td>MULTIPOLYGON (((-122.84000 49.00000, -122.9742...</td>\n",
              "    </tr>\n",
              "    <tr>\n",
              "      <th>4</th>\n",
              "      <td>326625791</td>\n",
              "      <td>North America</td>\n",
              "      <td>United States of America</td>\n",
              "      <td>USA</td>\n",
              "      <td>18560000.0</td>\n",
              "      <td>MULTIPOLYGON (((-122.84000 49.00000, -120.0000...</td>\n",
              "    </tr>\n",
              "  </tbody>\n",
              "</table>\n",
              "</div>"
            ],
            "text/plain": [
              "     pop_est  ...                                           geometry\n",
              "0     920938  ...  MULTIPOLYGON (((180.00000 -16.06713, 180.00000...\n",
              "1   53950935  ...  POLYGON ((33.90371 -0.95000, 34.07262 -1.05982...\n",
              "2     603253  ...  POLYGON ((-8.66559 27.65643, -8.66512 27.58948...\n",
              "3   35623680  ...  MULTIPOLYGON (((-122.84000 49.00000, -122.9742...\n",
              "4  326625791  ...  MULTIPOLYGON (((-122.84000 49.00000, -120.0000...\n",
              "\n",
              "[5 rows x 6 columns]"
            ]
          },
          "metadata": {
            "tags": []
          },
          "execution_count": 21
        }
      ]
    },
    {
      "cell_type": "code",
      "metadata": {
        "id": "vlHFdXj5d2a4",
        "colab_type": "code",
        "colab": {}
      },
      "source": [
        "def map_term(term):\n",
        "    d = {k.upper(): v for k, v in rank_countries(term, topn=0, field='cc3')}\n",
        "    world[term] = world['iso_a3'].map(d)\n",
        "    world[term] /= world[term].max()\n",
        "    world.dropna().plot(term, cmap='OrRd')"
      ],
      "execution_count": 22,
      "outputs": []
    },
    {
      "cell_type": "code",
      "metadata": {
        "id": "YzkITZ-4d7z2",
        "colab_type": "code",
        "colab": {
          "base_uri": "https://localhost:8080/",
          "height": 270
        },
        "outputId": "3985aae7-92ca-407b-cadb-c2a755d29dc5"
      },
      "source": [
        "map_term('hockey')"
      ],
      "execution_count": 24,
      "outputs": [
        {
          "output_type": "display_data",
          "data": {
            "image/png": "[encoded data removed]",
            "text/plain": [
              "<Figure size 720x720 with 1 Axes>"
            ]
          },
          "metadata": {
            "tags": [],
            "needs_background": "light"
          }
        }
      ]
    }
  ]
}